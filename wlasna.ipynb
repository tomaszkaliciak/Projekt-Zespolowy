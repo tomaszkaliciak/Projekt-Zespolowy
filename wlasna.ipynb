{
 "cells": [
  {
   "cell_type": "code",
   "execution_count": 1,
   "metadata": {},
   "outputs": [],
   "source": [
    "train_dir = './data/train'\n",
    "validation_dir = './data/validation'"
   ]
  },
  {
   "cell_type": "code",
   "execution_count": 2,
   "metadata": {},
   "outputs": [
    {
     "name": "stderr",
     "output_type": "stream",
     "text": [
      "Using TensorFlow backend.\n"
     ]
    }
   ],
   "source": [
    "from keras import layers\n",
    "from keras import models\n",
    "model = models.Sequential()\n",
    "model.add(layers.Conv2D(32, (3, 3), activation='relu',\n",
    "                        input_shape=(224, 224, 3)))\n",
    "model.add(layers.MaxPooling2D((2, 2)))\n",
    "model.add(layers.Conv2D(64, (3, 3), activation='relu'))\n",
    "model.add(layers.MaxPooling2D((2, 2)))\n",
    "model.add(layers.Conv2D(128, (3, 3), activation='relu'))\n",
    "model.add(layers.MaxPooling2D((2, 2)))\n",
    "model.add(layers.Conv2D(128, (3, 3), activation='relu'))\n",
    "model.add(layers.MaxPooling2D((2, 2)))\n",
    "model.add(layers.Flatten())\n",
    "model.add(layers.Dropout(0.5))\n",
    "model.add(layers.Dense(512, activation='relu'))\n",
    "model.add(layers.Dense(3, activation='softmax'))\n",
    "\n",
    "from keras import optimizers\n",
    "\n",
    "model.compile(loss='categorical_crossentropy',\n",
    "              optimizer=optimizers.RMSprop(lr=1e-4),\n",
    "              metrics=['acc'])"
   ]
  },
  {
   "cell_type": "code",
   "execution_count": 3,
   "metadata": {},
   "outputs": [
    {
     "name": "stdout",
     "output_type": "stream",
     "text": [
      "Found 30000 images belonging to 3 classes.\n",
      "Found 8070 images belonging to 3 classes.\n"
     ]
    }
   ],
   "source": [
    "from keras.preprocessing.image import ImageDataGenerator\n",
    "\n",
    "train_datagen = datagen = ImageDataGenerator(\n",
    "      rescale=1./255,\n",
    "      rotation_range=40,\n",
    "      width_shift_range=0.2,\n",
    "      height_shift_range=0.2,\n",
    "      shear_range=0.2,\n",
    "      zoom_range=0.2,\n",
    "      horizontal_flip=True)\n",
    "\n",
    "test_datagen = ImageDataGenerator(rescale=1./255)\n",
    "\n",
    "train_generator = train_datagen.flow_from_directory(\n",
    "        train_dir,\n",
    "        target_size=(224, 224),\n",
    "        batch_size=32,\n",
    "        class_mode='categorical')\n",
    "\n",
    "validation_generator = test_datagen.flow_from_directory(\n",
    "        validation_dir,\n",
    "        target_size=(224, 224),\n",
    "        batch_size=32,\n",
    "        class_mode='categorical')"
   ]
  },
  {
   "cell_type": "code",
   "execution_count": 4,
   "metadata": {},
   "outputs": [
    {
     "name": "stdout",
     "output_type": "stream",
     "text": [
      "Epoch 1/30\n",
      "937/937 [==============================] - 363s 388ms/step - loss: 0.8324 - acc: 0.5980 - val_loss: 0.6276 - val_acc: 0.7140\n",
      "Epoch 2/30\n",
      "937/937 [==============================] - 357s 381ms/step - loss: 0.6747 - acc: 0.6927 - val_loss: 0.5466 - val_acc: 0.7641\n",
      "Epoch 3/30\n",
      "937/937 [==============================] - 362s 387ms/step - loss: 0.6177 - acc: 0.7227 - val_loss: 0.5826 - val_acc: 0.7537\n",
      "Epoch 4/30\n",
      "937/937 [==============================] - 362s 386ms/step - loss: 0.5713 - acc: 0.7469 - val_loss: 0.4160 - val_acc: 0.8256\n",
      "Epoch 5/30\n",
      "937/937 [==============================] - 363s 388ms/step - loss: 0.5457 - acc: 0.7597 - val_loss: 0.5060 - val_acc: 0.7801\n",
      "Epoch 6/30\n",
      "937/937 [==============================] - 363s 388ms/step - loss: 0.5166 - acc: 0.7780 - val_loss: 0.3956 - val_acc: 0.8362\n",
      "Epoch 7/30\n",
      "937/937 [==============================] - 364s 389ms/step - loss: 0.5018 - acc: 0.7816 - val_loss: 0.4045 - val_acc: 0.8242\n",
      "Epoch 8/30\n",
      "937/937 [==============================] - 361s 385ms/step - loss: 0.4837 - acc: 0.7931 - val_loss: 0.4872 - val_acc: 0.8041\n",
      "Epoch 9/30\n",
      "937/937 [==============================] - 362s 387ms/step - loss: 0.4757 - acc: 0.7964 - val_loss: 0.3503 - val_acc: 0.8578\n",
      "Epoch 10/30\n",
      "937/937 [==============================] - 363s 387ms/step - loss: 0.4587 - acc: 0.8041 - val_loss: 0.3606 - val_acc: 0.8506\n",
      "Epoch 11/30\n",
      "937/937 [==============================] - 365s 389ms/step - loss: 0.4480 - acc: 0.8100 - val_loss: 0.3426 - val_acc: 0.8612\n",
      "Epoch 12/30\n",
      "937/937 [==============================] - 360s 384ms/step - loss: 0.4344 - acc: 0.8188 - val_loss: 0.2985 - val_acc: 0.8787\n",
      "Epoch 13/30\n",
      "937/937 [==============================] - 358s 382ms/step - loss: 0.4235 - acc: 0.8246 - val_loss: 0.3395 - val_acc: 0.8594\n",
      "Epoch 14/30\n",
      "937/937 [==============================] - 364s 388ms/step - loss: 0.4149 - acc: 0.8273 - val_loss: 0.3133 - val_acc: 0.8754\n",
      "Epoch 15/30\n",
      "937/937 [==============================] - 365s 390ms/step - loss: 0.4052 - acc: 0.8327 - val_loss: 0.3272 - val_acc: 0.8717\n",
      "Epoch 16/30\n",
      "937/937 [==============================] - 366s 390ms/step - loss: 0.4047 - acc: 0.8349 - val_loss: 0.3151 - val_acc: 0.8751\n",
      "Epoch 17/30\n",
      "937/937 [==============================] - 359s 383ms/step - loss: 0.3937 - acc: 0.8402 - val_loss: 0.2963 - val_acc: 0.8839\n",
      "Epoch 18/30\n",
      "937/937 [==============================] - 359s 383ms/step - loss: 0.3869 - acc: 0.8408 - val_loss: 0.2711 - val_acc: 0.8969\n",
      "Epoch 19/30\n",
      "937/937 [==============================] - 358s 383ms/step - loss: 0.3780 - acc: 0.8471 - val_loss: 0.4868 - val_acc: 0.8123\n",
      "Epoch 20/30\n",
      "937/937 [==============================] - 368s 393ms/step - loss: 0.3717 - acc: 0.8479 - val_loss: 0.4021 - val_acc: 0.8278\n",
      "Epoch 21/30\n",
      "937/937 [==============================] - 363s 388ms/step - loss: 0.3744 - acc: 0.8473 - val_loss: 0.3529 - val_acc: 0.8664\n",
      "Epoch 22/30\n",
      "937/937 [==============================] - 360s 385ms/step - loss: 0.3575 - acc: 0.8555 - val_loss: 0.2911 - val_acc: 0.8886\n",
      "Epoch 23/30\n",
      "937/937 [==============================] - 359s 383ms/step - loss: 0.3621 - acc: 0.8541 - val_loss: 0.2937 - val_acc: 0.8924\n",
      "Epoch 24/30\n",
      "937/937 [==============================] - 360s 384ms/step - loss: 0.3513 - acc: 0.8602 - val_loss: 0.2557 - val_acc: 0.9028\n",
      "Epoch 25/30\n",
      "937/937 [==============================] - 365s 389ms/step - loss: 0.3496 - acc: 0.8602 - val_loss: 0.2745 - val_acc: 0.8969\n",
      "Epoch 26/30\n",
      "937/937 [==============================] - 365s 389ms/step - loss: 0.3484 - acc: 0.8625 - val_loss: 0.2613 - val_acc: 0.8965\n",
      "Epoch 27/30\n",
      "937/937 [==============================] - 364s 388ms/step - loss: 0.3440 - acc: 0.8629 - val_loss: 0.2961 - val_acc: 0.8796\n",
      "Epoch 28/30\n",
      "937/937 [==============================] - 361s 385ms/step - loss: 0.3336 - acc: 0.8657 - val_loss: 0.3007 - val_acc: 0.8814\n",
      "Epoch 29/30\n",
      "937/937 [==============================] - 358s 383ms/step - loss: 0.3332 - acc: 0.8668 - val_loss: 0.3396 - val_acc: 0.8752\n",
      "Epoch 30/30\n",
      "937/937 [==============================] - 362s 387ms/step - loss: 0.3281 - acc: 0.8688 - val_loss: 0.3622 - val_acc: 0.8741\n"
     ]
    }
   ],
   "source": [
    "history = model.fit_generator(\n",
    "      train_generator,\n",
    "      steps_per_epoch=30000//32,\n",
    "      epochs=30,\n",
    "      validation_data=validation_generator,\n",
    "      validation_steps=8070//32)"
   ]
  },
  {
   "cell_type": "code",
   "execution_count": 5,
   "metadata": {},
   "outputs": [],
   "source": [
    "model.save_weights('gotowyyW.h5')\n",
    "model.save('gotowyy.h5')"
   ]
  },
  {
   "cell_type": "code",
   "execution_count": 8,
   "metadata": {},
   "outputs": [
    {
     "data": {
      "image/png": "[encoded data removed]",
      "text/plain": [
       "<matplotlib.figure.Figure at 0x7fe292d26f98>"
      ]
     },
     "metadata": {},
     "output_type": "display_data"
    },
    {
     "data": {
      "image/png": "[encoded data removed]",
      "text/plain": [
       "<matplotlib.figure.Figure at 0x7fe292c90358>"
      ]
     },
     "metadata": {},
     "output_type": "display_data"
    }
   ],
   "source": [
    "import matplotlib.pyplot as plt\n",
    "%matplotlib inline\n",
    "\n",
    "acc = history.history['acc']\n",
    "val_acc = history.history['val_acc']\n",
    "loss = history.history['loss']\n",
    "val_loss = history.history['val_loss']\n",
    "\n",
    "epochs = range(len(acc))\n",
    "\n",
    "plt.plot(epochs, acc, 'bo', label='Dane treningowe')\n",
    "plt.plot(epochs, val_acc, 'b', label='Dane walidacyjne')\n",
    "plt.title('Przebieg dokladnosci')\n",
    "plt.legend()\n",
    "\n",
    "plt.figure()\n",
    "\n",
    "plt.plot(epochs, loss, 'bo', label='Training loss')\n",
    "plt.plot(epochs, val_loss, 'b', label='Validation loss')\n",
    "plt.title('Training and validation loss')\n",
    "plt.legend()\n",
    "\n",
    "plt.show()"
   ]
  },
  {
   "cell_type": "code",
   "execution_count": null,
   "metadata": {},
   "outputs": [],
   "source": []
  }
 ],
 "metadata": {
  "kernelspec": {
   "display_name": "Python 3",
   "language": "python",
   "name": "python3"
  },
  "language_info": {
   "codemirror_mode": {
    "name": "ipython",
    "version": 3
   },
   "file_extension": ".py",
   "mimetype": "text/x-python",
   "name": "python",
   "nbconvert_exporter": "python",
   "pygments_lexer": "ipython3",
   "version": "3.5.2"
  },
  "widgets": {
   "state": {},
   "version": "1.1.2"
  }
 },
 "nbformat": 4,
 "nbformat_minor": 2
}
