{
 "cells": [
  {
   "cell_type": "code",
   "execution_count": 1,
   "metadata": {},
   "outputs": [
    {
     "name": "stderr",
     "output_type": "stream",
     "text": [
      "/home/tomasz/anaconda3/lib/python3.6/site-packages/h5py/__init__.py:36: FutureWarning: Conversion of the second argument of issubdtype from `float` to `np.floating` is deprecated. In future, it will be treated as `np.float64 == np.dtype(float).type`.\n",
      "  from ._conv import register_converters as _register_converters\n",
      "Using TensorFlow backend.\n",
      "/home/tomasz/anaconda3/lib/python3.6/site-packages/keras/models.py:255: UserWarning: No training configuration found in save file: the model was *not* compiled. Compile it manually.\n",
      "  warnings.warn('No training configuration found in save file: '\n"
     ]
    }
   ],
   "source": [
    "from keras.preprocessing.image import img_to_array, load_img\n",
    "from keras.models import load_model\n",
    "import numpy as np\n",
    "\n",
    "model = load_model('./model.h5')"
   ]
  },
  {
   "cell_type": "code",
   "execution_count": 2,
   "metadata": {},
   "outputs": [
    {
     "name": "stdout",
     "output_type": "stream",
     "text": [
      "[[1.000000e+00 5.607013e-15 1.647040e-11]]\n",
      "[[2.8136885e-04 9.8651719e-01 1.3201423e-02]]\n",
      "[[6.6486806e-02 5.7655396e-09 9.3351316e-01]]\n"
     ]
    }
   ],
   "source": [
    "paths = ['bocian.jpg', 'kot.jpg', 'pies.jpg']\n",
    "\n",
    "for path in paths:\n",
    "    image = load_img(path, target_size=(224, 224))\n",
    "    image = img_to_array(image)\n",
    "    image = image / 255\n",
    "    image = np.expand_dims(image, axis=0)\n",
    "\n",
    "    result = model.predict(image)\n",
    "    print(result)  # 1 - ptak, 2 - kot, 3 - pies\n"
   ]
  },
  {
   "cell_type": "code",
   "execution_count": null,
   "metadata": {},
   "outputs": [],
   "source": []
  }
 ],
 "metadata": {
  "kernelspec": {
   "display_name": "Python 3",
   "language": "python",
   "name": "python3"
  },
  "language_info": {
   "codemirror_mode": {
    "name": "ipython",
    "version": 3
   },
   "file_extension": ".py",
   "mimetype": "text/x-python",
   "name": "python",
   "nbconvert_exporter": "python",
   "pygments_lexer": "ipython3",
   "version": "3.6.5"
  }
 },
 "nbformat": 4,
 "nbformat_minor": 2
}
